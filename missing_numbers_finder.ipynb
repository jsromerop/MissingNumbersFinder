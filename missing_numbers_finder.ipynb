{
  "nbformat": 4,
  "nbformat_minor": 0,
  "metadata": {
    "colab": {
      "provenance": [],
      "mount_file_id": "1jRZJSli0nAd_hhzglQcYAkQHZMMZFRXn",
      "authorship_tag": "ABX9TyODYSRxd3/paLwuUiTlM5gm",
      "include_colab_link": true
    },
    "kernelspec": {
      "name": "python3",
      "display_name": "Python 3"
    },
    "language_info": {
      "name": "python"
    }
  },
  "cells": [
    {
      "cell_type": "markdown",
      "metadata": {
        "id": "view-in-github",
        "colab_type": "text"
      },
      "source": [
        "<a href=\"https://colab.research.google.com/github/jsromerop/MissingNumbersFinder/blob/main/missing_numbers_finder.ipynb\" target=\"_parent\"><img src=\"https://colab.research.google.com/assets/colab-badge.svg\" alt=\"Open In Colab\"/></a>"
      ]
    },
    {
      "cell_type": "code",
      "source": [
        "(hash('Jesus')%3)+1"
      ],
      "metadata": {
        "colab": {
          "base_uri": "https://localhost:8080/"
        },
        "id": "nLOuGvAU2jJH",
        "outputId": "888c84dd-c112-49f2-9c82-d7332b74136b"
      },
      "execution_count": null,
      "outputs": [
        {
          "output_type": "execute_result",
          "data": {
            "text/plain": [
              "3"
            ]
          },
          "metadata": {},
          "execution_count": 2
        }
      ]
    },
    {
      "cell_type": "markdown",
      "source": [
        "\n",
        "\n",
        "---\n",
        "\n",
        "\n",
        "# **1. Paraphrase the problem in simple words.**\n",
        "\n",
        "You are given a list of numbers that are supposed to include all numbers from 0 to n. However, some numbers might be missing. You must find the missing numbers in the list, if the list is complete, then return -1."
      ],
      "metadata": {
        "id": "-4tqQMYueBUw"
      }
    },
    {
      "cell_type": "markdown",
      "source": [
        "\n",
        "\n",
        "---\n",
        "\n",
        "# **2. In the .md file containing your problem, there are examples that illustrate how the code should work. Create 2 new examples that demonstrate you understand the problem.**\n",
        "\n",
        "**Example 1:**\n",
        "\n",
        "Input: lst = [1, 3, 4]\n",
        "\n",
        "Output: [0, 2]\n",
        "\n",
        "**Example 2:**\n",
        "\n",
        "Input: lst = [0, 1, 2]\n",
        "\n",
        "Output: -1\n"
      ],
      "metadata": {
        "id": "Gtw8dMlPcWHg"
      }
    },
    {
      "cell_type": "markdown",
      "source": [
        "\n",
        "\n",
        "---\n",
        "\n",
        "# **3. Code the solution to your assigned problem in Python (code chunk). Try to find the best time and space complexity solution!**\n"
      ],
      "metadata": {
        "id": "DKm07Li7gkmc"
      }
    },
    {
      "cell_type": "code",
      "source": [
        "def find_missing_numbers_set(lst):\n",
        "\n",
        "    n = max(lst)  # Find the maximum value in the list\n",
        "\n",
        "    # Check if all numbers from 0 to n are present in the list\n",
        "    if set(range(n + 1)) == set(lst):\n",
        "        return -1\n",
        "\n",
        "    # If not, find the difference between the sets\n",
        "    return list(set(range(n + 1)) - set(lst))"
      ],
      "metadata": {
        "id": "WqNmxZyJgvkA"
      },
      "execution_count": 25,
      "outputs": []
    },
    {
      "cell_type": "code",
      "source": [
        "# Test cases\n",
        "print(find_missing_numbers_set([0, 2]))  # Output: [1]\n",
        "print(find_missing_numbers_set([2, 0, 0, 0, 1, 1, 3, 3, 3, 4, 4]))  # Output: -1\n",
        "print(find_missing_numbers_set([6, 8, 8, 8, 2, 3, 5, 5, 7, 7, 0, 1, 10]))  # Output: [4, 9]\n",
        "print(find_missing_numbers_set([0, 0, 1, 1, 2]))  # Output: -1\n",
        "print(find_missing_numbers_set([0, 0, 1, 1]))  # Output: -1"
      ],
      "metadata": {
        "colab": {
          "base_uri": "https://localhost:8080/",
          "height": 0
        },
        "id": "PcXWB32ow4hG",
        "outputId": "953678cb-b339-45c7-f176-fd432e3da6f4"
      },
      "execution_count": 46,
      "outputs": [
        {
          "output_type": "stream",
          "name": "stdout",
          "text": [
            "[1]\n",
            "-1\n",
            "[9, 4]\n",
            "-1\n",
            "-1\n"
          ]
        }
      ]
    },
    {
      "cell_type": "markdown",
      "source": [
        "\n",
        "\n",
        "---\n",
        "\n",
        "# **4. Explain why your solution works**\n",
        "\n",
        "The solution works because starts by finding the maximum value in the list lst. This is stored in the variable n, after that the code then checks if all numbers from 0 to n are present in the list.\n",
        "\n",
        "It does this by converting the range [0, n + 1] to a set and comparing it to the set of elements in \"lst\". Converting to a set helps to not consider the duplicates. If the two sets are equal, it means that all numbers are present and the function returns -1.\n",
        "\n",
        "If all numbers are not present, the code proceeds to find the missing numbers. It does this by finding the difference between the set of all numbers from 0 to n + 1 and the set of elements in lst. The difference is calculated using the - operator for sets, which returns the elements that are in the first set but not in the second set. The missing numbers are returned as a list.\n"
      ],
      "metadata": {
        "id": "aQVwnNvx9bHV"
      }
    },
    {
      "cell_type": "markdown",
      "source": [
        "\n",
        "\n",
        "---\n",
        "\n",
        "# **5. Explain the problem’s and space complexity**\n",
        "\n",
        "\n",
        "Time complexity: The time complexity of the code is O(n), where n is the length of the list. This is because the main operations (finding the maximum value, converting sets, and finding the difference) all take linear time.\n",
        "\n",
        "Space complexity: The space complexity of the code is O(n), where n is the length of the list. This is because the code creates two sets, one to store the range of numbers and another to store the elements in the list.\n",
        "\n"
      ],
      "metadata": {
        "id": "KEG_Ci2C_F7A"
      }
    },
    {
      "cell_type": "markdown",
      "source": [
        "\n",
        "\n",
        "---\n",
        "\n",
        "#**6. Explain the thinking to an alternative solution (no coding required, but a classmate reading this should be able to code it up based off your text)**\n",
        "\n",
        "\n",
        "Determin the maximum value in the list and then iterates through the range [0, max(lst)] to identify missing numbers not present in the input list. The missing numbers are stored in a list, and the function returns this list if there are missing numbers, or -1 if none are found.\n"
      ],
      "metadata": {
        "id": "7aV1fGcIBLvv"
      }
    }
  ]
}